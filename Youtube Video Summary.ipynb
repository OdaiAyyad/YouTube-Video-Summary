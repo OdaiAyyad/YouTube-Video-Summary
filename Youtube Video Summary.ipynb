{
  "cells": [
    {
      "cell_type": "code",
      "execution_count": 1,
      "metadata": {
        "colab": {
          "base_uri": "https://localhost:8080/"
        },
        "id": "drxIqRvXUd1M",
        "outputId": "325521c1-d2ff-4b2d-dc26-78f8cd912471"
      },
      "outputs": [
        {
          "name": "stdout",
          "output_type": "stream",
          "text": [
            "Collecting yt-dlp\n",
            "  Downloading yt_dlp-2025.3.31-py3-none-any.whl.metadata (172 kB)\n",
            "\u001b[?25l     \u001b[90m━━━━━━━━━━━━━━━━━━━━━━━━━━━━━━━━━━━━━━━━\u001b[0m \u001b[32m0.0/172.2 kB\u001b[0m \u001b[31m?\u001b[0m eta \u001b[36m-:--:--\u001b[0m\r\u001b[2K     \u001b[91m━━━━━━━━━━━━━━━━━━━━━━━━━━━━━━━━━━━━━\u001b[0m\u001b[90m╺\u001b[0m\u001b[90m━\u001b[0m \u001b[32m163.8/172.2 kB\u001b[0m \u001b[31m5.9 MB/s\u001b[0m eta \u001b[36m0:00:01\u001b[0m\r\u001b[2K     \u001b[90m━━━━━━━━━━━━━━━━━━━━━━━━━━━━━━━━━━━━━━━\u001b[0m \u001b[32m172.2/172.2 kB\u001b[0m \u001b[31m2.6 MB/s\u001b[0m eta \u001b[36m0:00:00\u001b[0m\n",
            "\u001b[?25hRequirement already satisfied: openai in /usr/local/lib/python3.11/dist-packages (1.75.0)\n",
            "Requirement already satisfied: anyio<5,>=3.5.0 in /usr/local/lib/python3.11/dist-packages (from openai) (4.9.0)\n",
            "Requirement already satisfied: distro<2,>=1.7.0 in /usr/local/lib/python3.11/dist-packages (from openai) (1.9.0)\n",
            "Requirement already satisfied: httpx<1,>=0.23.0 in /usr/local/lib/python3.11/dist-packages (from openai) (0.28.1)\n",
            "Requirement already satisfied: jiter<1,>=0.4.0 in /usr/local/lib/python3.11/dist-packages (from openai) (0.9.0)\n",
            "Requirement already satisfied: pydantic<3,>=1.9.0 in /usr/local/lib/python3.11/dist-packages (from openai) (2.11.3)\n",
            "Requirement already satisfied: sniffio in /usr/local/lib/python3.11/dist-packages (from openai) (1.3.1)\n",
            "Requirement already satisfied: tqdm>4 in /usr/local/lib/python3.11/dist-packages (from openai) (4.67.1)\n",
            "Requirement already satisfied: typing-extensions<5,>=4.11 in /usr/local/lib/python3.11/dist-packages (from openai) (4.13.2)\n",
            "Requirement already satisfied: idna>=2.8 in /usr/local/lib/python3.11/dist-packages (from anyio<5,>=3.5.0->openai) (3.10)\n",
            "Requirement already satisfied: certifi in /usr/local/lib/python3.11/dist-packages (from httpx<1,>=0.23.0->openai) (2025.1.31)\n",
            "Requirement already satisfied: httpcore==1.* in /usr/local/lib/python3.11/dist-packages (from httpx<1,>=0.23.0->openai) (1.0.8)\n",
            "Requirement already satisfied: h11<0.15,>=0.13 in /usr/local/lib/python3.11/dist-packages (from httpcore==1.*->httpx<1,>=0.23.0->openai) (0.14.0)\n",
            "Requirement already satisfied: annotated-types>=0.6.0 in /usr/local/lib/python3.11/dist-packages (from pydantic<3,>=1.9.0->openai) (0.7.0)\n",
            "Requirement already satisfied: pydantic-core==2.33.1 in /usr/local/lib/python3.11/dist-packages (from pydantic<3,>=1.9.0->openai) (2.33.1)\n",
            "Requirement already satisfied: typing-inspection>=0.4.0 in /usr/local/lib/python3.11/dist-packages (from pydantic<3,>=1.9.0->openai) (0.4.0)\n",
            "Downloading yt_dlp-2025.3.31-py3-none-any.whl (3.2 MB)\n",
            "\u001b[2K   \u001b[90m━━━━━━━━━━━━━━━━━━━━━━━━━━━━━━━━━━━━━━━━\u001b[0m \u001b[32m3.2/3.2 MB\u001b[0m \u001b[31m23.6 MB/s\u001b[0m eta \u001b[36m0:00:00\u001b[0m\n",
            "\u001b[?25hInstalling collected packages: yt-dlp\n",
            "Successfully installed yt-dlp-2025.3.31\n",
            "Reading package lists... Done\n",
            "Building dependency tree... Done\n",
            "Reading state information... Done\n",
            "ffmpeg is already the newest version (7:4.4.2-0ubuntu0.22.04.1).\n",
            "0 upgraded, 0 newly installed, 0 to remove and 34 not upgraded.\n"
          ]
        }
      ],
      "source": [
        "# Step 1: Install required libraries (only once)\n",
        "!pip install yt-dlp openai\n",
        "!apt install ffmpeg -y\n",
        "\n",
        "# Step 2: Import libraries\n",
        "import yt_dlp\n",
        "import openai\n",
        "import os"
      ]
    },
    {
      "cell_type": "code",
      "execution_count": null,
      "metadata": {
        "colab": {
          "base_uri": "https://localhost:8080/"
        },
        "id": "f97C9oSQOTBk",
        "outputId": "0c28f6fe-8f92-4425-8dec-0b46d399ec53"
      },
      "outputs": [
        {
          "name": "stdout",
          "output_type": "stream",
          "text": [
            "Enter YouTube URL:\n",
            "https://www.youtube.com/watch?v=rDjlHpfVy30\n",
            "[youtube] Extracting URL: https://www.youtube.com/watch?v=rDjlHpfVy30\n",
            "[youtube] rDjlHpfVy30: Downloading webpage\n",
            "[youtube] rDjlHpfVy30: Downloading tv client config\n",
            "[youtube] rDjlHpfVy30: Downloading player 9a279502-main\n",
            "[youtube] rDjlHpfVy30: Downloading tv player API JSON\n",
            "[youtube] rDjlHpfVy30: Downloading ios player API JSON\n",
            "[youtube] rDjlHpfVy30: Downloading m3u8 information\n",
            "[info] rDjlHpfVy30: Downloading 1 format(s): 251\n",
            "[download] Destination: كيف تحسن علاقتك مع الله ( الثقة في الله تحقق المستحيل ) ｜ ياسر الحزيمي.webm\n",
            "[download] 100% of    8.16MiB in 00:00:00 at 30.36MiB/s  \n",
            "[ExtractAudio] Destination: كيف تحسن علاقتك مع الله ( الثقة في الله تحقق المستحيل ) ｜ ياسر الحزيمي.mp3\n",
            "Deleting original file كيف تحسن علاقتك مع الله ( الثقة في الله تحقق المستحيل ) ｜ ياسر الحزيمي.webm (pass -k to keep)\n",
            "\n",
            "✅ Transcript saved as: transcript-كيف تحسن علاقتك مع الله ( الثقة في الله تحقق المستحيل ) ｜ ياسر الحزيمي.txt\n"
          ]
        }
      ],
      "source": [
        "# Step 3: Set your OpenAI API Key\n",
        "os.environ['OPENAI_API_KEY'] = 'YOUR_OPENAI_API_KEY'\n",
        "openai.api_key = os.getenv('OPENAI_API_KEY')\n",
        "\n",
        "# Step 4: Download audio from YouTube\n",
        "url = input(\"Enter YouTube URL:\\n\")\n",
        "\n",
        "# Step 5: Download audio using yt-dlp\n",
        "ydl_opts = {\n",
        "    'format': 'bestaudio/best',\n",
        "    'outtmpl': '%(title)s.%(ext)s',\n",
        "    'postprocessors': [{\n",
        "        'key': 'FFmpegExtractAudio',\n",
        "        'preferredcodec': 'mp3',\n",
        "        'preferredquality': '192',\n",
        "    }],\n",
        "}\n",
        "\n",
        "with yt_dlp.YoutubeDL(ydl_opts) as ydl:\n",
        "    info_dict = ydl.extract_info(url, download=True)\n",
        "    video_title = ydl.prepare_filename(info_dict).rsplit('.', 1)[0] #split the name at the last point to remove extension\n",
        "\n",
        "# Step 6: Set path to the downloaded mp3 file\n",
        "audio_file = f\"{video_title}.mp3\"\n",
        "\n",
        "# Step 7: Transcribe audio with OpenAI Whisper\n",
        "\n",
        "with open(audio_file, \"rb\") as f:\n",
        "    transcript = openai.audio.transcriptions.create(\n",
        "        model=\"whisper-1\",\n",
        "        file=f\n",
        "    )\n",
        "\n",
        "# Step 8: Save transcript to a .txt file\n",
        "name, extension = os.path.splitext(audio_file)\n",
        "transcript_filename = f'transcript-{name}.txt'\n",
        "with open(transcript_filename, 'w') as f:\n",
        "    f.write(transcript.text)\n",
        "\n",
        "print(f\"\\n✅ Transcript saved as: {transcript_filename}\")\n"
      ]
    },
    {
      "cell_type": "code",
      "execution_count": 3,
      "metadata": {
        "colab": {
          "base_uri": "https://localhost:8080/"
        },
        "id": "RdiPkS_GPagh",
        "outputId": "6a0d7d9a-5d45-413d-aa70-ae57f1016db6"
      },
      "outputs": [
        {
          "name": "stdout",
          "output_type": "stream",
          "text": [
            "('أركان أربعة، أول شيء العلاقة مع الله سبحانه وتعالى الله يقول سبحانه وتعالى '\n",
            " 'أن الذين آمنوا وعملوا الصالحات سيجعلوا لهم الرحمن وودة في ناس لا نفعك ولا '\n",
            " 'سوالك شيء ولا أعطاك شيء لكنك تحبه تشوفه ترتاح له، تقبل عليه، تثق فيه دون أي '\n",
            " 'سابق تجربة هذا شيء من الله سبحانه وتعالى فالعلاقة مع الله، العلاقة مع الخالق '\n",
            " 'تؤثر في العلاقة مع المخلوقين فهذا ركن كبير جدا ومشحونة النصوص الشرعية في '\n",
            " 'قضية تمتين العلاقة مع الله سبحانه وتعالى وحسن التعامل مع الله، حسن الخلق مع '\n",
            " 'الله هو قائم على ثلاث أشياء قائم على تصديق أخباره والرضا بأقداره واتباع '\n",
            " 'أوامره الذي يتبع أوامر الله سبحانه وتعالى ويصدق أخباره ويرضى بأقداره هذا هو '\n",
            " 'الذي يحسن الأدب مع الله سبحانه وتعالى والركن الثاني للعلاقة مع الذات '\n",
            " 'والعلاقة مع الذات فيها مجموعة أشياء تقديري لذاتي طيب تسمح لي قبل ندخل الذات '\n",
            " 'أريد أن أعرف ما هي أهمية العلاقة مع الله للإنسان طيب كيف تنعكس على الواحد '\n",
            " 'على الإنسان العلاقة الروحية دعونا نعكسها ماذا لو لم يوجد إله كما هي في '\n",
            " 'العلاقات المعاصرة الآن إذا أردنا أن نتحدث عنها مثلا إذا غاب الإله غاب الرقيب '\n",
            " 'غاب الشاهد غاب مقام الإحسان أنت عبد الله كأنك ترا فإن لم تكن ترا فإنه يراك '\n",
            " 'وبالتالي كل تعاملي معك سيختلف بوجود الرقيب الثقافة أصلاً إحنا لما خلقنا الله '\n",
            " 'عز وجل أشهدنا لست بربكم كلنا قلنا نعم طيب وعرض الأمانة فإحنا مستأمنين تخيل '\n",
            " 'واحد مستأمنك على جسدك وحياتك ووقتك ومالك هو أمانة الآن ورقيب عليك كيف '\n",
            " 'ستتعامل مع هذه الأمانة ستتعامل معها بكل ما يريده صاحب هذه الأمانة الذي '\n",
            " 'استأمنك إذا واحد وجود الله سبحانه وتعالى استشعار وجود الرقيب يجعلني أتعامل '\n",
            " 'معك يجعلني أسامحك الله يقول شوف شوف ماذا تقول عائشة رضي الله عنها تقول لله '\n",
            " 'در التقوى لله در التقوى ما جعل للشفاء الغليلي من سبيل أغضبتها جارية عندها ما '\n",
            " 'ضربتها قلت أنا يوم يقوم الناس لرب العالمين أنا بسكت إذن هناك جزاء العلاقة مع '\n",
            " 'الذات ومع الآخرين في وجود مثلا التظلم أنت ظلمتني كيف أقتص منك هناك هناك '\n",
            " 'فأصبر وتحمل وأكثر من الغير وأتسامح وأتركها أتركها هنا لكن إنسان يرى أن '\n",
            " 'الحياة هي فرصة واحدة كيف سيتعامل مع هذا الظلم في التطلعات إنسان يرى الحسد '\n",
            " 'شديد جدا عندما تظن أن الحياة فرصة وأن الحياة ليست مناوبة وإنما مناهبة قد ما '\n",
            " 'أقدر أخذ من هذه الكعكة وأمشي لكن لما تكون التطلع إن شاء الله في الجنة شوف '\n",
            " 'بعض الناس يقولك لا إن شاء الله إيه هذي إن شاء الله في الجنة طيب حلو فالنبي '\n",
            " 'صلى الله عليه وسلم إذا رأى شيئا يعجبه من الدنيا ماذا قال قال لبيك يقول الله '\n",
            " 'إن العيش عيش الآخرة هذي الدنيا هذي قشور وكذا هذي يخلي إنسان يهدأ طيب لما '\n",
            " 'يأتي القرآن يقول وإن الساعة لآتية طيب خلص نصلي لا نصوم لا أجلس في محراب '\n",
            " 'العبادة لا فاصبح الصفحة الجميل آه سامح لي قدامك لذلك دائما المثل يقول العفو '\n",
            " 'عند المقدرة لا تجد أن كثير من الناس يرى أن العفو عند المقبرة أبي تذكر الموت '\n",
            " 'لما تجي تسكب عبراتك على إنسان راحل كان بينك وبين الشيء الموت يوقظ هذا الشيء '\n",
            " 'في داخلك أنك تذكر الموت تذكر تحس الدنيا ما تسوى ما تسوى وأن هذي الحياة أصلا '\n",
            " 'كلها الحياة المعاصرة الفرق بيني وبين غير المسلم أو الإنسان المتلوث بالنموذج '\n",
            " 'الغربي حياة شاسعة جدا حياة الغرب أو الغربي حياة الغربي مثل قبره مزخرفة لكنها '\n",
            " 'ضيقة محشا من الداخل هو حياته كذا أشياء حلوة ومتاع وفلا لكنها ضيق صدره ضيق '\n",
            " 'صدره مرة مرة طيب حياة المؤمن لا مختلفة تماما وإن ضاقت فإنه مهما ضاقت يجد في '\n",
            " 'سجدة السعه يلقى كل شي ويرتاح وفيه يوم آخر وفيه جزاء وفيه قدر وفيه حكمة وفيه '\n",
            " 'خيرة وفيه بركة فيه مفاهيم كثيرة هي تحتضنها ولا يحتضنها هذه من الفرقات من '\n",
            " 'الفرقات الكبيرة إذا استشعرنا وجود الله سبحانه وتعالى أن التعامل مع الآخرين '\n",
            " 'يتحول إلى علاقة إرضاء لله سبحانه وتعالى وأنه لا يصغر ولا يكبر هذا التعامل '\n",
            " 'عندما يقيمه الله سبحانه وتعالى كيف أشيل أنا غصن من طريق المسلمين فيدخلني '\n",
            " 'الله الجنة يرضى ويدخل يا الله الجنة التي طارت من أجلها الأرقاب وغبرت العقاب '\n",
            " 'أدخلها عشان إيه لأن هذا الإنسان له قيمة عند الله سبحانه وتعالى له قيمة ليش '\n",
            " 'له قيمة لأنه ما خلق السماوات الأرض إلا له ولا إله إلا الله التي في صدره تزن '\n",
            " 'السماوات الأرض ودمه حرمته أشد حرمة من الكعبة هذا إنسان عظيم فعندما تسوي شيء '\n",
            " 'بسيط أنت في نظرك بسيط هو بموازين الله سبحانه وتعالى مختلف تماما لما تدخل '\n",
            " 'بهذه النظرة تختلف بنظرة أني أتعامل معك في سوق الذي يحسب تجارتي فيها هو الله '\n",
            " 'سبحانه وتعالى أنا أرضيك لأرضي علام الغيوب طيب النموذج الغربي الزبون دايما '\n",
            " 'على حق لا تتحول العلاقات من تعامل إلى تكتيك كيف تكتيك تكتيك يعني أسوي شيء '\n",
            " 'عشان أكسب فأنا أحاول أدخل إلى القلوب لأستخرج ما في الجيوب هذه الفكرة العميل '\n",
            " 'دايما على حق وأنت كويس ورائع كيف أنا كيف أخذ منك أنا لا أعمم أنا أتكلم عن '\n",
            " 'نموذج هنا ونموذج هنا يعني هذي الأشياء إذا استحضر الإنسان معية الله عز وجل في '\n",
            " 'التعامل معها في أشياء كثيرة ستتغير حدث ميت عن إيه بس إذا تسمح لي يعني أودي '\n",
            " 'أخذها وننزل شوي إلى الواقع اليوم فاليوم في الواقع فيه تأثر بالذكرة الغرب أو '\n",
            " 'الغربية الثلاث مرة وهذا موجود اليوم على أرض الواقع نقدر نعيشه ونشوفه فكل '\n",
            " 'الكلام اللي أنت قلته من دافع ديني بحث بس ماذا عنه كجانب روحي بغض النظر عن '\n",
            " 'الدين فكيف أثر العلاقة الروحية أهمية وجود علاقة فاليوم مثلا لما تشوف الغرب '\n",
            " 'بدأ يكثر عندهم لضعف يعني مثلا ظهر في بريطانيا أن الناس اللي بدون دين أكثر '\n",
            " 'اليوم هم الشريحة الأكبر في بريطانيا كلها وهنا ودي أتحقق من المعلومة بس أنه '\n",
            " 'يعني شيء زي كده فاليوم الإلحاد موجة عالية لكن تشوف معها موجات جديدة ترتفع '\n",
            " 'مثلا الاهتمام بالتأمل الاهتمام باليوغا الأشياء اللي فيها هذا الطابع الروحي '\n",
            " 'فودي أعرف ليش الإنسان حتى لو لم يؤمن بالله إلا أنه يبحث عن شيء فوش الأهمية '\n",
            " 'العلاقة هذه للإنسان شوف البحث عن إله عن متجاوز عن مطلق عن مرجعية هذه فطرة '\n",
            " 'فطرة والفطرة لا تنكشف لتحت الضغط ولذلك حتى الكفار الدهرين إذا ركبوا في الفلك '\n",
            " 'دعوا الله مخلصين الهدى عرفوا أن لا إله شوف بعض الناس أحيانا ملحد لا يؤمن لا '\n",
            " 'ديني إذا ضغطته الحياة ينظر إلى السماء ينظر إلى متجاوز يبحث عن شيء خارج عنه '\n",
            " 'ليه الإنسان في هذه الحاجة الدائمة؟ هي فطرة موجودة في الإنسان هي من الفطرة؟ '\n",
            " 'الفطرة أنه هو يؤمن بوجود إله هو محتاج إلى إله من هو هذا الإله هنا يختلف '\n",
            " 'الناس من هو هذا الإله يختلفون فتأتي الرسل لتعرف هذا الإله طيب هذا الإله ترى '\n",
            " 'مو بضرورة أن يكون معبودا يعني أن يكون جزءا خارجا عنك قد يكون في داخلك إله هو '\n",
            " 'هوا الإنسان المعاصر لها الرغبة الآن لها اللذة يا إله ما هو الإله هو المشرع '\n",
            " 'لك هو الذي يخبرك ما هو الصواب والخطأ ولذلك لحظة لما يأتي الدين الدين يعطيك '\n",
            " 'الحلال والحرام طيب والأعراف تعطيك العيب واللي مو بعيب والثقافة الجمال تعطيك '\n",
            " 'الحسن والقبيح هذه كلها تذهب إذن أنا ألبس ما؟ لما أجي ألبس أنا ما ألبس أقول '\n",
            " 'هذا شريب حلال ولا حرام هل هذا يسطر العورة أو ما يسطر العورة لا هذا معناه '\n",
            " 'ديني هل هذا عيب ولي مو بعيب أنا ما هموني الناس هل هذا قبيح ولا زين لا ما '\n",
            " 'عندي هم هل هو مفيد يسترع برد مبرد لا لم يعد السؤال هل هو مفيد أصبح السؤال هل '\n",
            " 'هو جديد فهل الإنسان في حاجة دائما إلى إله فهل الإنسان في حاجة دائما إلى إله')\n"
          ]
        }
      ],
      "source": [
        "import pprint\n",
        "pprint.pprint(transcript.text)"
      ]
    },
    {
      "cell_type": "code",
      "execution_count": 5,
      "metadata": {
        "colab": {
          "base_uri": "https://localhost:8080/"
        },
        "id": "thKo3w-5U5mU",
        "outputId": "8aa1bb73-f3c1-457a-d84f-fe3a9e4d51a0"
      },
      "outputs": [
        {
          "name": "stdout",
          "output_type": "stream",
          "text": [
            "- العلاقة مع الله مؤثرة في العلاقة مع المخلوقين\n",
            "- العمل بثلاثة أشياء يحسن العلاقة مع الله: تصديق أخباره، الرضا بأقداره، اتباع أوامره\n",
            "- العلاقة مع الذات تشمل التقدير للذات وأهمية الاعتراف بأهمية العلاقة مع الله للإنسان\n",
            "- وجود علاقة روحية مهم حتى لمن لا يؤمن بالله\n",
            "- البحث عن المعنى والروحانية يمكن أن تجذب الإنسان حتى لو لم يؤمن بالإله\n",
            "- الثقافة الروحية والبحث عن الهدف والمعنى يمكن أن تكون مهمة للإنسان سواء كان مؤمنا أو غير مؤمن\n",
            "- تأثير الروحانية والعلاقة الروحية ممكنة حتى في غياب الإيمان بالإله\n"
          ]
        }
      ],
      "source": [
        "response = openai.chat.completions.create(\n",
        "    model=\"gpt-3.5-turbo\",\n",
        "    messages=[\n",
        "        {\"role\": \"system\", \"content\": \"You are good at creating bullet point summaries from large texts.\"},\n",
        "        {\"role\": \"user\", \"content\": f\"Summarize the following in bullet point form:\\n{transcript.text}\"}\n",
        "    ]\n",
        ")\n",
        "print(response.choices[0].message.content)"
      ]
    },
    {
      "cell_type": "code",
      "execution_count": 6,
      "metadata": {
        "colab": {
          "base_uri": "https://localhost:8080/"
        },
        "id": "rdt31MltQRtT",
        "outputId": "32c54997-9a7a-4bb1-db70-15cde57de304"
      },
      "outputs": [
        {
          "name": "stdout",
          "output_type": "stream",
          "text": [
            "Starting summarizing ... **أهمية العلاقة مع الله وتأثيرها على الحياة الروحية والعلاقات الإنسانية:**\n",
            "\n",
            "- العلاقة مع الله تعتبر أحد أركان الحياة الروحية، وتؤثر بشكل كبير على العلاقات الإنسانية.\n",
            "- الثقة بالله والامتثال لأوامره ورضا بقدره تعزز العلاقة الروحية وتحسن التعامل مع الذات والآخرين.\n",
            "- الاستشعار لوجود الرقيب (الله) يؤثر في سلوكيات الإنسان ويحفزه على العمل الصالح.\n",
            "- البحث الروحي والدائم عن الإله يعكس الفطرة الإنسانية والحاجة الروحية للاتصال بالعالم الخارجي.\n",
            "- العلاقة الروحية تساهم في تحقيق السلام الداخلي والتوازن النفسي للإنسان.\n",
            "\n",
            "**ختامًا:**\n",
            "تأكيد على أهمية العلاقة الروحية والبحث الدائم عن الإله كجزء من الفطرة الإنسانية وتأثيرها الإيجابي على الحياة الروحية والعلاقات الإنسانية.\n"
          ]
        }
      ],
      "source": [
        "system_prompt = 'I want you to act as Arabic Life Coach.'\n",
        "prompt = f'''Create a summary of the following text in Arabic Langyage.\n",
        "    Text: {transcript}\n",
        "\n",
        "    Add a title to the summary in Arabic.\n",
        "    Your summary should be informative and factual, covering the most important aspects of the topic.\n",
        "    Start your summary BULLET POINTS if possible AND end the summary with a CONCLUSION PHRASE. and please make sure that\n",
        "    the whole content is in Arabic'''\n",
        "\n",
        "print('Starting summarizing ... ', end='')\n",
        "response = openai.chat.completions.create(\n",
        "        model='gpt-3.5-turbo',\n",
        "        messages=[\n",
        "            {'role': 'system', 'content': system_prompt},\n",
        "            {'role': 'user', 'content': prompt}\n",
        "        ],\n",
        "        max_tokens=3000,\n",
        "        temperature=0.3\n",
        ")\n",
        "\n",
        "print(response.choices[0].message.content)"
      ]
    },
    {
      "cell_type": "code",
      "execution_count": 7,
      "metadata": {
        "colab": {
          "base_uri": "https://localhost:8080/"
        },
        "id": "azjEH0VVQdKq",
        "outputId": "43f51ca0-013a-40fb-8498-47e6b09e6c6b"
      },
      "outputs": [
        {
          "name": "stdout",
          "output_type": "stream",
          "text": [
            "**أهمية العلاقة مع الله وتأثيرها على الحياة الروحية والعلاقات الإنسانية:**\n",
            "\n",
            "- العلاقة مع الله تعتبر أحد أركان الحياة الروحية، وتؤثر بشكل كبير على العلاقات الإنسانية.\n",
            "- الثقة بالله والامتثال لأوامره ورضا بقدره تعزز العلاقة الروحية وتحسن التعامل مع الذات والآخرين.\n",
            "- الاستشعار لوجود الرقيب (الله) يؤثر في سلوكيات الإنسان ويحفزه على العمل الصالح.\n",
            "- البحث الروحي والدائم عن الإله يعكس الفطرة الإنسانية والحاجة الروحية للاتصال بالعالم الخارجي.\n",
            "- العلاقة الروحية تساهم في تحقيق السلام الداخلي والتوازن النفسي للإنسان.\n",
            "\n",
            "**ختامًا:**\n",
            "تأكيد على أهمية العلاقة الروحية والبحث الدائم عن الإله كجزء من الفطرة الإنسانية وتأثيرها الإيجابي على الحياة الروحية والعلاقات الإنسانية.\n"
          ]
        }
      ],
      "source": [
        "print(response.choices[0].message.content)"
      ]
    },
    {
      "cell_type": "code",
      "execution_count": null,
      "metadata": {
        "id": "KWj2mJmuQfjH"
      },
      "outputs": [],
      "source": []
    }
  ],
  "metadata": {
    "colab": {
      "provenance": []
    },
    "kernelspec": {
      "display_name": "Python 3",
      "name": "python3"
    },
    "language_info": {
      "name": "python"
    }
  },
  "nbformat": 4,
  "nbformat_minor": 0
}
